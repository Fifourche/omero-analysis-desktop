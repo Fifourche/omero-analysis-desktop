{
 "cells": [
  {
   "cell_type": "markdown",
   "metadata": {},
   "source": [
    "# Napari\n",
    "\n",
    "\n",
    "## Setup: start the [desktop](../desktop)\n",
    "The link should open in a different window. If you see an error message try refreshing the window.\n",
    "\n",
    "Then run the first cell and wait until the execution is finished (wait for the start on the left-hand side to turn into a number) before running the following cells. `Run all cells` will not work.\n",
    "\n",
    "If you are running this locally you should see some log messages. If you are running this on mybinder wait a few seconds before running the Napari cell. Note adding `time.sleep(5)` to the cell does not work!"
   ]
  },
  {
   "cell_type": "code",
   "execution_count": 1,
   "metadata": {},
   "outputs": [],
   "source": [
    "# Use the novnc Desktop in the other window\n",
    "import os\n",
    "os.environ['DISPLAY'] = ':1.0'\n",
    "# instantiate Qt GUI\n",
    "%gui qt5"
   ]
  },
  {
   "cell_type": "code",
   "execution_count": null,
   "metadata": {},
   "outputs": [],
   "source": [
    "%pip install git+https://github.com/Fifourche/napari-animation.git@save_dialog\n",
    "\n",
    "# Install the specified version of napari-animation"
   ]
  },
  {
   "cell_type": "code",
   "execution_count": 4,
   "metadata": {
    "scrolled": true
   },
   "outputs": [],
   "source": [
    "import napari\n",
    "from napari_animation import AnimationWidget\n",
    "from skimage.data import cells3d\n",
    "\n",
    "cells = cells3d()[:, 1]  # get some data\n",
    "\n",
    "# Launch viewer to view data\n",
    "viewer = napari.view_image(cells, colormap='magma')\n",
    "viewer.dims.ndisplay = 3\n",
    "\n",
    "# Instantiate the animation widget\n",
    "animation_widget = AnimationWidget(viewer)\n",
    "viewer.window.add_dock_widget(animation_widget, area='right')\n",
    "animation = animation_widget.animation"
   ]
  }
 ],
 "metadata": {
  "kernelspec": {
   "display_name": "Python 3",
   "language": "python",
   "name": "python3"
  },
  "language_info": {
   "codemirror_mode": {
    "name": "ipython",
    "version": 3
   },
   "file_extension": ".py",
   "mimetype": "text/x-python",
   "name": "python",
   "nbconvert_exporter": "python",
   "pygments_lexer": "ipython3",
   "version": "3.7.4"
  }
 },
 "nbformat": 4,
 "nbformat_minor": 2
}
