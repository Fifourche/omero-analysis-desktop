{
 "cells": [
  {
   "cell_type": "markdown",
   "metadata": {},
   "source": [
    "# Napari\n",
    "\n",
    "\n",
    "## Setup: start the [desktop](../desktop)\n",
    "The link should open in a different window. If you see an error message try refreshing the window.\n",
    "\n",
    "Then run the first cell and wait for QT to be initialised before running the following cells. `Run all cells` will not work.\n",
    "\n",
    "If you are running this locally you should see some log messages. If you are running this on mybinder wait a few seconds before running the Napari cell. Note adding `time.sleep(5)` to the cell does not work!"
   ]
  },
  {
   "cell_type": "code",
   "execution_count": null,
   "metadata": {},
   "outputs": [],
   "source": [
    "# Use the novnc Desktop in the other window\n",
    "import os\n",
    "os.environ['DISPLAY'] = ':1.0'\n",
    "# instantiate Qt GUI\n",
    "%gui qt5"
   ]
  },
  {
   "cell_type": "code",
   "execution_count": null,
   "metadata": {},
   "outputs": [],
   "source": [
    "from dask import delayed\n",
    "import dask.array as da\n",
    "import napari\n",
    "from vispy.color import Colormap\n",
    "import numpy\n",
    "import omero\n",
    "from omero.gateway import BlitzGateway\n",
    "client = omero.client(host='ws://idr.openmicroscopy.org/omero-ws')\n",
    "client.createSession('public', 'public')\n",
    "conn = BlitzGateway(client_obj=client)\n",

    "# conn = BlitzGateway(host='ws://idr.openmicroscopy.org/omero-ws',\n",
    "#                    username='public', passwd='public', secure=True)\n",
    "# conn.connect()\n",
    "\n",
    "IMAGE_ID = 5514052\n",
    "image = conn.getObject(\"Image\", IMAGE_ID)\n",
    "\n",
    "cache = {}\n",
    "\n",
    "def get_lazy_stack(img, c=0):\n",
    "    sz = img.getSizeZ()\n",
    "    st = img.getSizeT()\n",
    "    plane_names = [\"%s,%s,%s\" % (z, c, t) for t in range(st) for z in range(sz)]\n",
    "\n",
    "    def get_plane(plane_name):\n",
    "        if plane_name in cache:\n",
    "            return cache[plane_name]\n",
    "        z, c, t = [int(n) for n in plane_name.split(\",\")]\n",
    "        pixels = img.getPrimaryPixels()\n",
    "        p = pixels.getPlane(z, c, t)\n",
    "        cache[plane_name] = p\n",
    "        return p\n",
    "\n",
    "    # read the first file to get the shape and dtype\n",
    "    # ASSUMES THAT ALL FILES SHARE THE SAME SHAPE/TYPE\n",
    "    sample = get_plane(plane_names[0])\n",
    "    lazy_imread = delayed(get_plane)\n",
    "    lazy_arrays = [lazy_imread(pn) for pn in plane_names]\n",
    "    dask_arrays = [\n",
    "        da.from_delayed(delayed_reader, shape=sample.shape, dtype=sample.dtype)\n",
    "        for delayed_reader in lazy_arrays\n",
    "    ]\n",
    "    # Stack into one large dask.array\n",
    "    if sz == 1 or st == 1:\n",
    "        return da.stack(dask_arrays, axis=0)\n",
    "    z_stacks = []\n",
    "    for t in range(st):\n",
    "        z_stacks.append(da.stack(dask_arrays[t * sz: (t + 1) * sz], axis=0))\n",
    "    return da.stack(z_stacks, axis=0)\n",
    "# create the viewer on the Desktop and display the image\n",
    "with napari.gui_qt():\n",
    "    viewer = napari.Viewer()\n",
    "    for c, channel in enumerate(image.getChannels()):\n",
    "        data = get_lazy_stack(image, c=c)\n",
    "        start = channel.getWindowStart()\n",
    "        end = channel.getWindowEnd()\n",
    "        color = channel.getColor().getRGB()\n",
    "        color = [r/256 for r in color]\n",
    "        cmap = Colormap([[0, 0, 0], color])\n",
    "        # Z-scale for 3D viewing\n",
    "        z_scale = 1\n",
    "        if image.getSizeZ() > 1:\n",
    "            size_x = image.getPixelSizeX()\n",
    "            size_z = image.getPixelSizeZ()\n",
    "            if size_x is not None and size_z is not None:\n",
    "                z_scale = [1, size_z / size_x, 1, 1]\n",
    "        viewer.add_image(data, blending='additive',\n",
    "                         contrast_limits=[start, end],\n",
    "                         colormap=('from_omero', cmap),\n",
    "                         # scale=[1, z_scale, 1, 1],\n",
    "                         name=channel.getLabel())\n",
    "conn.close()"
   ]
  }
 ],
 "metadata": {
  "kernelspec": {
   "display_name": "Python 3",
   "language": "python",
   "name": "python3"
  },
  "language_info": {
   "codemirror_mode": {
    "name": "ipython",
    "version": 3
   },
   "file_extension": ".py",
   "mimetype": "text/x-python",
   "name": "python",
   "nbconvert_exporter": "python",
   "pygments_lexer": "ipython3",
   "version": "3.7.3"
  }
 },
 "nbformat": 4,
 "nbformat_minor": 2
}
