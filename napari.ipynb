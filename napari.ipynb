{
 "cells": [
  {
   "cell_type": "markdown",
   "metadata": {},
   "source": [
    "# Napari\n",
    "\n",
    "\n",
    "## Setup: start the [desktop](../desktop)\n",
    "The link should open in a different window. If you see an error message try refreshing the window.\n",
    "\n",
    "Then run the first cell and wait for QT to be initialised before running the following cells. `Run all cells` will not work.\n",
    "\n",
    "If you are running this locally you should see some log messages. If you are running this on mybinder wait a few seconds before running the Napari cell. Note adding `time.sleep(5)` to the cell does not work!"
   ]
  },
  {
   "cell_type": "code",
   "execution_count": null,
   "metadata": {},
   "outputs": [],
   "source": [
    "# Use the novnc Desktop in the other window\n",
    "import os\n",
    "os.environ['DISPLAY'] = ':1.0'\n",
    "# instantiate Qt GUI\n",
    "%gui qt5"
   ]
  },
  {
   "cell_type": "code",
   "execution_count": null,
   "metadata": {},
   "outputs": [],
   "source": [
    "import napari\n",
    "from vispy.color import Colormap\n"
    "import numpy\n",
    "from idr import connection\n",
    "conn = connection()\n",
    "\n",
    "IMAGE_ID = 5514052\n",
    "image = conn.getObject("Image", IMAGE_ID)\n",
    "\n",
    "def get_z_stack(img, c=0, t=0):\n",
    "    zct_list = [(z, c, t) for z in range(img.getSizeZ())]\n",
    "    pixels = image.getPrimaryPixels()\n",
    "    return numpy.array(list(pixels.getPlanes(zct_list)))\n",
    "\n",

    "# create the viewer on the Desktop and display the image\n",
    "with napari.gui_qt():\n",
    "    viewer = napari.Viewer()\n",
    "    for c, channel in enumerate(image.getChannels()):\n",
    "        data = get_z_stack(image, c=c)\n",
    "        color = channel.getColor().getRGB()\n",
    "        color = [r//256 for r in color]\n",
    "        cmap = Colormap([[0, 0, 0], color])\n",
    "        # Z-scale for 3D viewing\n",
    "        size_x = image.getPixelSizeX()\n",
    "        size_z = image.getPixelSizeZ()\n",
    "        z_scale = size_z // size_x\n",
    "        viewer.add_image(data, blending='additive',
                         colormap=('from_omero', cmap),
                         scale=[1, z_scale, 1, 1],
                         name=channel.getLabel())\n",
    "conn.close()"
   ]
  }
 ],
 "metadata": {
  "kernelspec": {
   "display_name": "Python 3",
   "language": "python",
   "name": "python3"
  },
  "language_info": {
   "codemirror_mode": {
    "name": "ipython",
    "version": 3
   },
   "file_extension": ".py",
   "mimetype": "text/x-python",
   "name": "python",
   "nbconvert_exporter": "python",
   "pygments_lexer": "ipython3",
   "version": "3.7.3"
  }
 },
 "nbformat": 4,
 "nbformat_minor": 2
}
